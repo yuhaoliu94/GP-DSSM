{
 "cells": [
  {
   "cell_type": "code",
   "execution_count": null,
   "id": "c789d477-a221-4bf6-b577-067a059cfb8c",
   "metadata": {
    "tags": []
   },
   "outputs": [],
   "source": [
    "import os\n",
    "import pickle\n",
    "os.getcwd()\n",
    "os.chdir(\"../../\")\n",
    "\n",
    "import numpy as np\n",
    "from matplotlib import pyplot as plt"
   ]
  },
  {
   "cell_type": "code",
   "execution_count": null,
   "id": "fc1699a9-1668-49cd-9809-f78ef7a98e26",
   "metadata": {
    "tags": []
   },
   "outputs": [],
   "source": [
    "from src.gpdssm.models import InputSingleModel"
   ]
  },
  {
   "cell_type": "code",
   "execution_count": null,
   "id": "2b8a3162-f6fa-4895-80a9-65a9e60a3038",
   "metadata": {
    "tags": []
   },
   "outputs": [],
   "source": [
    "model = InputSingleModel(data_name=\"train_3\", data_fold=1, dim_hidden=[2], num_rff=50, num_particle=1000, \n",
    "                            display_step=200, warm_start=0, learning_rate=0.001, num_train_cycle=1)"
   ]
  },
  {
   "cell_type": "code",
   "execution_count": null,
   "id": "218ab070-44a0-4871-9ade-4581aea76eda",
   "metadata": {
    "tags": []
   },
   "outputs": [],
   "source": [
    "model.learn()"
   ]
  },
  {
   "cell_type": "code",
   "execution_count": null,
   "id": "a1d3349b-ec28-4fe0-acfc-87225927674f",
   "metadata": {
    "tags": []
   },
   "outputs": [],
   "source": [
    "cwd = os.getcwd()\n",
    "model_path = os.path.join(cwd, \"models\", \"train_3.pickle\")\n",
    "with open(model_path, 'wb') as f:\n",
    "    pickle.dump(model, f)"
   ]
  },
  {
   "cell_type": "code",
   "execution_count": null,
   "id": "55bab876-69ff-42c4-8bbe-4d3a1a4ae134",
   "metadata": {},
   "outputs": [],
   "source": []
  },
  {
   "cell_type": "code",
   "execution_count": null,
   "id": "761d126b-cd55-42ac-bd14-b33584ee77de",
   "metadata": {},
   "outputs": [],
   "source": []
  }
 ],
 "metadata": {
  "kernelspec": {
   "display_name": "Python 3 (ipykernel)",
   "language": "python",
   "name": "python3"
  },
  "language_info": {
   "codemirror_mode": {
    "name": "ipython",
    "version": 3
   },
   "file_extension": ".py",
   "mimetype": "text/x-python",
   "name": "python",
   "nbconvert_exporter": "python",
   "pygments_lexer": "ipython3",
   "version": "3.11.4"
  }
 },
 "nbformat": 4,
 "nbformat_minor": 5
}
