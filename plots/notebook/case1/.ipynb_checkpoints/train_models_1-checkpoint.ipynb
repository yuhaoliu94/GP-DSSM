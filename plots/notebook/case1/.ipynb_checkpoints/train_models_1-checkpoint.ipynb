{
 "cells": [
  {
   "cell_type": "code",
   "execution_count": 1,
   "id": "c789d477-a221-4bf6-b577-067a059cfb8c",
   "metadata": {
    "tags": []
   },
   "outputs": [],
   "source": [
    "import os\n",
    "import pickle\n",
    "os.getcwd()\n",
    "os.chdir(\"../../\")\n",
    "\n",
    "import numpy as np\n",
    "from matplotlib import pyplot as plt"
   ]
  },
  {
   "cell_type": "code",
   "execution_count": 2,
   "id": "fc1699a9-1668-49cd-9809-f78ef7a98e26",
   "metadata": {
    "tags": []
   },
   "outputs": [],
   "source": [
    "from src.gpdssm.models import StandardSingleModel"
   ]
  },
  {
   "cell_type": "code",
   "execution_count": 3,
   "id": "2b8a3162-f6fa-4895-80a9-65a9e60a3038",
   "metadata": {
    "tags": []
   },
   "outputs": [],
   "source": [
    "model = StandardSingleModel(data_name=\"train_1\", data_fold=1, dim_hidden=[2], num_rff=50, num_particle=1000, \n",
    "                            display_step=200, warm_start=0, learning_rate=0.001, num_train_cycle=1)"
   ]
  },
  {
   "cell_type": "code",
   "execution_count": 4,
   "id": "218ab070-44a0-4871-9ade-4581aea76eda",
   "metadata": {
    "tags": []
   },
   "outputs": [
    {
     "name": "stdout",
     "output_type": "stream",
     "text": [
      ">>> train cycle 1\n",
      ">>> cycle=1, t=1, mse=1.6654, mnll=6.4842, time=0.0 minutes\n",
      ">>> cycle=1, t=200, mse=1.9769, mnll=2.4818, time=0.07 minutes\n",
      ">>> cycle=1, t=400, mse=1.4785, mnll=0.7031, time=0.13 minutes\n",
      ">>> cycle=1, t=600, mse=1.3088, mnll=-0.0088, time=0.2 minutes\n",
      ">>> cycle=1, t=800, mse=1.1958, mnll=-0.5699, time=0.27 minutes\n",
      ">>> cycle=1, t=1000, mse=1.1219, mnll=-0.9818, time=0.33 minutes\n",
      ">>> cycle=1, t=1200, mse=1.062, mnll=-1.3548, time=0.4 minutes\n",
      ">>> cycle=1, t=1400, mse=1.0118, mnll=-1.7106, time=0.47 minutes\n",
      ">>> cycle=1, t=1600, mse=0.9684, mnll=-2.0472, time=0.53 minutes\n",
      ">>> cycle=1, t=1800, mse=0.9282, mnll=-2.3689, time=0.6 minutes\n",
      ">>> cycle=1, t=2000, mse=0.8882, mnll=-2.6872, time=0.66 minutes\n",
      ">>> cycle=1, t=2200, mse=0.8492, mnll=-2.9859, time=0.73 minutes\n",
      ">>> cycle=1, t=2400, mse=0.8121, mnll=-3.2601, time=0.79 minutes\n",
      ">>> cycle=1, t=2600, mse=0.7755, mnll=-3.5234, time=0.86 minutes\n",
      ">>> cycle=1, t=2800, mse=0.7403, mnll=-3.782, time=0.92 minutes\n",
      ">>> cycle=1, t=3000, mse=0.707, mnll=-4.0296, time=0.99 minutes\n",
      ">>> cycle=1, t=3200, mse=0.6781, mnll=-4.2451, time=1.06 minutes\n",
      ">>> cycle=1, t=3400, mse=0.652, mnll=-4.4439, time=1.12 minutes\n",
      ">>> cycle=1, t=3600, mse=0.6274, mnll=-4.6382, time=1.19 minutes\n",
      ">>> cycle=1, t=3800, mse=0.6043, mnll=-4.8282, time=1.25 minutes\n",
      ">>> cycle=1, t=4000, mse=0.5838, mnll=-4.9979, time=1.32 minutes\n",
      ">>> cycle=1, t=4200, mse=0.5649, mnll=-5.16, time=1.38 minutes\n",
      ">>> cycle=1, t=4400, mse=0.547, mnll=-5.3181, time=1.45 minutes\n",
      ">>> cycle=1, t=4600, mse=0.5311, mnll=-5.4597, time=1.51 minutes\n",
      ">>> cycle=1, t=4800, mse=0.5156, mnll=-5.6095, time=1.58 minutes\n",
      ">>> cycle=1, t=5000, mse=0.5011, mnll=-5.7511, time=1.64 minutes\n",
      ">>> cycle=1, t=5200, mse=0.4875, mnll=-5.8906, time=1.71 minutes\n",
      ">>> cycle=1, t=5400, mse=0.475, mnll=-6.0198, time=1.78 minutes\n",
      ">>> cycle=1, t=5600, mse=0.4631, mnll=-6.1476, time=1.85 minutes\n",
      ">>> cycle=1, t=5800, mse=0.4517, mnll=-6.2745, time=1.92 minutes\n",
      ">>> cycle=1, t=6000, mse=0.4414, mnll=-6.3909, time=1.98 minutes\n",
      ">>> cycle=1, t=6200, mse=0.4313, mnll=-6.5075, time=2.05 minutes\n",
      ">>> cycle=1, t=6400, mse=0.4217, mnll=-6.6236, time=2.11 minutes\n",
      ">>> cycle=1, t=6600, mse=0.4128, mnll=-6.732, time=2.18 minutes\n",
      ">>> cycle=1, t=6800, mse=0.4042, mnll=-6.8387, time=2.24 minutes\n",
      ">>> cycle=1, t=7000, mse=0.396, mnll=-6.9437, time=2.31 minutes\n",
      ">>> cycle=1, t=7200, mse=0.3882, mnll=-7.0467, time=2.38 minutes\n",
      ">>> cycle=1, t=7400, mse=0.3806, mnll=-7.1513, time=2.44 minutes\n",
      ">>> cycle=1, t=7600, mse=0.3735, mnll=-7.2467, time=2.51 minutes\n",
      ">>> cycle=1, t=7800, mse=0.367, mnll=-7.339, time=2.57 minutes\n",
      ">>> cycle=1, t=8000, mse=0.3604, mnll=-7.4354, time=2.64 minutes\n",
      ">>> cycle=1, t=8200, mse=0.3541, mnll=-7.5278, time=2.71 minutes\n",
      ">>> cycle=1, t=8400, mse=0.348, mnll=-7.6197, time=2.77 minutes\n",
      ">>> cycle=1, t=8600, mse=0.3422, mnll=-7.7083, time=2.84 minutes\n",
      ">>> cycle=1, t=8800, mse=0.3366, mnll=-7.7954, time=2.91 minutes\n",
      ">>> cycle=1, t=9000, mse=0.3313, mnll=-7.8803, time=2.97 minutes\n",
      ">>> cycle=1, t=9200, mse=0.3259, mnll=-7.9675, time=3.04 minutes\n",
      ">>> cycle=1, t=9400, mse=0.3211, mnll=-8.0466, time=3.1 minutes\n",
      ">>> cycle=1, t=9600, mse=0.3164, mnll=-8.1259, time=3.17 minutes\n",
      ">>> cycle=1, t=9800, mse=0.3118, mnll=-8.2044, time=3.24 minutes\n",
      ">>> cycle=1, t=10000, mse=0.3077, mnll=-8.2756, time=3.3 minutes\n"
     ]
    }
   ],
   "source": [
    "model.learn()"
   ]
  },
  {
   "cell_type": "code",
   "execution_count": 6,
   "id": "a1d3349b-ec28-4fe0-acfc-87225927674f",
   "metadata": {
    "tags": []
   },
   "outputs": [],
   "source": [
    "cwd = os.getcwd()\n",
    "model_path = os.path.join(cwd, \"models\", \"train_1.pickle\")\n",
    "with open(model_path, 'wb') as f:\n",
    "    pickle.dump(model, f)"
   ]
  },
  {
   "cell_type": "code",
   "execution_count": null,
   "id": "55bab876-69ff-42c4-8bbe-4d3a1a4ae134",
   "metadata": {},
   "outputs": [],
   "source": []
  },
  {
   "cell_type": "code",
   "execution_count": null,
   "id": "761d126b-cd55-42ac-bd14-b33584ee77de",
   "metadata": {},
   "outputs": [],
   "source": []
  }
 ],
 "metadata": {
  "kernelspec": {
   "display_name": "Python 3 (ipykernel)",
   "language": "python",
   "name": "python3"
  },
  "language_info": {
   "codemirror_mode": {
    "name": "ipython",
    "version": 3
   },
   "file_extension": ".py",
   "mimetype": "text/x-python",
   "name": "python",
   "nbconvert_exporter": "python",
   "pygments_lexer": "ipython3",
   "version": "3.11.4"
  }
 },
 "nbformat": 4,
 "nbformat_minor": 5
}
