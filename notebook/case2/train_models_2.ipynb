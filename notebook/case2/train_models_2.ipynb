{
 "cells": [
  {
   "cell_type": "code",
   "execution_count": 1,
   "id": "c789d477-a221-4bf6-b577-067a059cfb8c",
   "metadata": {
    "tags": []
   },
   "outputs": [],
   "source": [
    "import os\n",
    "import pickle\n",
    "os.getcwd()\n",
    "os.chdir(\"../../\")\n",
    "\n",
    "import numpy as np\n",
    "from matplotlib import pyplot as plt"
   ]
  },
  {
   "cell_type": "code",
   "execution_count": 2,
   "id": "fc1699a9-1668-49cd-9809-f78ef7a98e26",
   "metadata": {
    "tags": []
   },
   "outputs": [],
   "source": [
    "from src.gpdssm.models import StandardSingleModel"
   ]
  },
  {
   "cell_type": "code",
   "execution_count": 3,
   "id": "f59decd4-668a-49b0-a122-1806f329f96d",
   "metadata": {
    "tags": []
   },
   "outputs": [],
   "source": [
    "model = StandardSingleModel(data_name=\"train_2\", data_fold=1, dim_hidden=[2], num_rff=50, num_particle=1000, \n",
    "                            display_step=200, warm_start=0, learning_rate=0.001, num_train_cycle=1)"
   ]
  },
  {
   "cell_type": "code",
   "execution_count": 4,
   "id": "1a8e11f9-27b6-4db0-85ca-c4e68b609000",
   "metadata": {
    "tags": []
   },
   "outputs": [
    {
     "name": "stdout",
     "output_type": "stream",
     "text": [
      ">>> train cycle 1\n",
      ">>> cycle=1, t=1, mse=1.874, mnll=6.4547, time=0.0 minutes\n",
      ">>> cycle=1, t=200, mse=3.3202, mnll=4.3695, time=0.07 minutes\n",
      ">>> cycle=1, t=400, mse=2.6719, mnll=2.1135, time=0.14 minutes\n",
      ">>> cycle=1, t=600, mse=2.3371, mnll=1.011, time=0.21 minutes\n",
      ">>> cycle=1, t=800, mse=2.0776, mnll=-0.1404, time=0.27 minutes\n",
      ">>> cycle=1, t=1000, mse=1.8519, mnll=-1.2717, time=0.34 minutes\n",
      ">>> cycle=1, t=1200, mse=1.6575, mnll=-2.2344, time=0.41 minutes\n",
      ">>> cycle=1, t=1400, mse=1.4943, mnll=-3.0429, time=0.47 minutes\n",
      ">>> cycle=1, t=1600, mse=1.364, mnll=-3.7195, time=0.54 minutes\n",
      ">>> cycle=1, t=1800, mse=1.2605, mnll=-4.2858, time=0.61 minutes\n",
      ">>> cycle=1, t=2000, mse=1.1749, mnll=-4.7759, time=0.68 minutes\n",
      ">>> cycle=1, t=2200, mse=1.1046, mnll=-5.2001, time=0.75 minutes\n",
      ">>> cycle=1, t=2400, mse=1.046, mnll=-5.5738, time=0.82 minutes\n",
      ">>> cycle=1, t=2600, mse=0.9946, mnll=-5.9192, time=0.89 minutes\n",
      ">>> cycle=1, t=2800, mse=0.9474, mnll=-6.2576, time=0.96 minutes\n",
      ">>> cycle=1, t=3000, mse=0.9064, mnll=-6.5684, time=1.04 minutes\n",
      ">>> cycle=1, t=3200, mse=0.8721, mnll=-6.8326, time=1.11 minutes\n",
      ">>> cycle=1, t=3400, mse=0.8423, mnll=-7.0659, time=1.18 minutes\n",
      ">>> cycle=1, t=3600, mse=0.8149, mnll=-7.2924, time=1.25 minutes\n",
      ">>> cycle=1, t=3800, mse=0.7886, mnll=-7.5231, time=1.32 minutes\n",
      ">>> cycle=1, t=4000, mse=0.7672, mnll=-7.7077, time=1.39 minutes\n",
      ">>> cycle=1, t=4200, mse=0.7475, mnll=-7.8864, time=1.45 minutes\n",
      ">>> cycle=1, t=4400, mse=0.7289, mnll=-8.0606, time=1.52 minutes\n",
      ">>> cycle=1, t=4600, mse=0.7126, mnll=-8.2115, time=1.59 minutes\n",
      ">>> cycle=1, t=4800, mse=0.6959, mnll=-8.3746, time=1.66 minutes\n",
      ">>> cycle=1, t=5000, mse=0.6808, mnll=-8.5272, time=1.73 minutes\n",
      ">>> cycle=1, t=5200, mse=0.6663, mnll=-8.6799, time=1.8 minutes\n",
      ">>> cycle=1, t=5400, mse=0.6536, mnll=-8.8113, time=1.87 minutes\n",
      ">>> cycle=1, t=5600, mse=0.6416, mnll=-8.9391, time=1.93 minutes\n",
      ">>> cycle=1, t=5800, mse=0.6293, mnll=-9.0753, time=2.0 minutes\n",
      ">>> cycle=1, t=6000, mse=0.6189, mnll=-9.1882, time=2.07 minutes\n",
      ">>> cycle=1, t=6200, mse=0.6088, mnll=-9.3029, time=2.14 minutes\n",
      ">>> cycle=1, t=6400, mse=0.5982, mnll=-9.4264, time=2.21 minutes\n",
      ">>> cycle=1, t=6600, mse=0.5891, mnll=-9.5305, time=2.27 minutes\n",
      ">>> cycle=1, t=6800, mse=0.5805, mnll=-9.6332, time=2.34 minutes\n",
      ">>> cycle=1, t=7000, mse=0.572, mnll=-9.7384, time=2.41 minutes\n",
      ">>> cycle=1, t=7200, mse=0.5636, mnll=-9.8429, time=2.48 minutes\n",
      ">>> cycle=1, t=7400, mse=0.5552, mnll=-9.9482, time=2.55 minutes\n",
      ">>> cycle=1, t=7600, mse=0.5482, mnll=-10.0361, time=2.62 minutes\n",
      ">>> cycle=1, t=7800, mse=0.5412, mnll=-10.1244, time=2.68 minutes\n",
      ">>> cycle=1, t=8000, mse=0.534, mnll=-10.2182, time=2.75 minutes\n",
      ">>> cycle=1, t=8200, mse=0.5271, mnll=-10.3087, time=2.82 minutes\n",
      ">>> cycle=1, t=8400, mse=0.5202, mnll=-10.4023, time=2.89 minutes\n",
      ">>> cycle=1, t=8600, mse=0.5142, mnll=-10.4823, time=2.95 minutes\n",
      ">>> cycle=1, t=8800, mse=0.5079, mnll=-10.5713, time=3.02 minutes\n",
      ">>> cycle=1, t=9000, mse=0.502, mnll=-10.6536, time=3.09 minutes\n",
      ">>> cycle=1, t=9200, mse=0.4958, mnll=-10.7425, time=3.16 minutes\n",
      ">>> cycle=1, t=9400, mse=0.4905, mnll=-10.8182, time=3.23 minutes\n",
      ">>> cycle=1, t=9600, mse=0.4852, mnll=-10.8955, time=3.3 minutes\n",
      ">>> cycle=1, t=9800, mse=0.48, mnll=-10.9722, time=3.37 minutes\n",
      ">>> cycle=1, t=10000, mse=0.4754, mnll=-11.0426, time=3.43 minutes\n"
     ]
    }
   ],
   "source": [
    "model.learn()"
   ]
  },
  {
   "cell_type": "code",
   "execution_count": 5,
   "id": "a1d3349b-ec28-4fe0-acfc-87225927674f",
   "metadata": {
    "tags": []
   },
   "outputs": [],
   "source": [
    "cwd = os.getcwd()\n",
    "model_path = os.path.join(cwd, \"models\", \"train_2.pickle\")\n",
    "with open(model_path, 'wb') as f:\n",
    "    pickle.dump(model, f)"
   ]
  },
  {
   "cell_type": "code",
   "execution_count": null,
   "id": "55bab876-69ff-42c4-8bbe-4d3a1a4ae134",
   "metadata": {},
   "outputs": [],
   "source": []
  }
 ],
 "metadata": {
  "kernelspec": {
   "display_name": "Python 3 (ipykernel)",
   "language": "python",
   "name": "python3"
  },
  "language_info": {
   "codemirror_mode": {
    "name": "ipython",
    "version": 3
   },
   "file_extension": ".py",
   "mimetype": "text/x-python",
   "name": "python",
   "nbconvert_exporter": "python",
   "pygments_lexer": "ipython3",
   "version": "3.11.4"
  }
 },
 "nbformat": 4,
 "nbformat_minor": 5
}
