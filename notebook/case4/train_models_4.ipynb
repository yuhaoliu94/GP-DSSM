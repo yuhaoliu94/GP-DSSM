{
 "cells": [
  {
   "cell_type": "code",
   "execution_count": 1,
   "id": "c789d477-a221-4bf6-b577-067a059cfb8c",
   "metadata": {
    "tags": []
   },
   "outputs": [],
   "source": [
    "import os\n",
    "import pickle\n",
    "os.getcwd()\n",
    "os.chdir(\"../../\")\n",
    "\n",
    "import numpy as np\n",
    "from matplotlib import pyplot as plt"
   ]
  },
  {
   "cell_type": "code",
   "execution_count": 2,
   "id": "fc1699a9-1668-49cd-9809-f78ef7a98e26",
   "metadata": {
    "tags": []
   },
   "outputs": [],
   "source": [
    "from src.gpdssm.models import InputFeedForwardSingleModel"
   ]
  },
  {
   "cell_type": "code",
   "execution_count": 3,
   "id": "2b8a3162-f6fa-4895-80a9-65a9e60a3038",
   "metadata": {
    "tags": []
   },
   "outputs": [],
   "source": [
    "model = InputFeedForwardSingleModel(data_name=\"train_3\", data_fold=1, dim_hidden=[2], num_rff=50, num_particle=1000, \n",
    "                            display_step=200, warm_start=0, learning_rate=0.001, num_train_cycle=1)"
   ]
  },
  {
   "cell_type": "code",
   "execution_count": 4,
   "id": "218ab070-44a0-4871-9ade-4581aea76eda",
   "metadata": {
    "tags": []
   },
   "outputs": [
    {
     "name": "stdout",
     "output_type": "stream",
     "text": [
      ">>> train cycle 1\n",
      ">>> cycle=1, t=1, mse=0.5306, mnll=0.2987, time=0.0 minutes\n",
      ">>> cycle=1, t=200, mse=14.6325, mnll=14.3696, time=0.08 minutes\n",
      ">>> cycle=1, t=400, mse=11.7323, mnll=13.718, time=0.16 minutes\n",
      ">>> cycle=1, t=600, mse=12.5889, mnll=14.0632, time=0.23 minutes\n",
      ">>> cycle=1, t=800, mse=11.9363, mnll=13.7136, time=0.33 minutes\n",
      ">>> cycle=1, t=1000, mse=11.2404, mnll=13.5161, time=0.41 minutes\n",
      ">>> cycle=1, t=1200, mse=10.5249, mnll=13.2291, time=0.48 minutes\n",
      ">>> cycle=1, t=1400, mse=9.8536, mnll=12.938, time=0.54 minutes\n",
      ">>> cycle=1, t=1600, mse=9.3499, mnll=12.6939, time=0.61 minutes\n",
      ">>> cycle=1, t=1800, mse=8.8846, mnll=12.4364, time=0.7 minutes\n",
      ">>> cycle=1, t=2000, mse=8.6281, mnll=12.2819, time=0.77 minutes\n",
      ">>> cycle=1, t=2200, mse=8.5992, mnll=12.2113, time=0.86 minutes\n",
      ">>> cycle=1, t=2400, mse=8.5667, mnll=12.1732, time=0.94 minutes\n",
      ">>> cycle=1, t=2600, mse=8.4626, mnll=12.0905, time=1.01 minutes\n",
      ">>> cycle=1, t=2800, mse=8.4497, mnll=12.0931, time=1.08 minutes\n",
      ">>> cycle=1, t=3000, mse=8.2701, mnll=11.9599, time=1.14 minutes\n",
      ">>> cycle=1, t=3200, mse=8.1699, mnll=11.8821, time=1.23 minutes\n",
      ">>> cycle=1, t=3400, mse=8.0807, mnll=11.8115, time=1.29 minutes\n",
      ">>> cycle=1, t=3600, mse=7.9747, mnll=11.7222, time=1.39 minutes\n",
      ">>> cycle=1, t=3800, mse=7.9418, mnll=11.6771, time=1.47 minutes\n",
      ">>> cycle=1, t=4000, mse=7.9317, mnll=11.672, time=1.54 minutes\n",
      ">>> cycle=1, t=4200, mse=7.8718, mnll=11.6158, time=1.61 minutes\n",
      ">>> cycle=1, t=4400, mse=7.7644, mnll=11.5342, time=1.67 minutes\n",
      ">>> cycle=1, t=4600, mse=7.731, mnll=11.4971, time=1.76 minutes\n",
      ">>> cycle=1, t=4800, mse=7.7036, mnll=11.4798, time=1.82 minutes\n",
      ">>> cycle=1, t=5000, mse=7.7331, mnll=11.5102, time=1.92 minutes\n",
      ">>> cycle=1, t=5200, mse=7.7396, mnll=11.5211, time=2.0 minutes\n",
      ">>> cycle=1, t=5400, mse=7.696, mnll=11.4675, time=2.07 minutes\n",
      ">>> cycle=1, t=5600, mse=7.6342, mnll=11.4111, time=2.14 minutes\n",
      ">>> cycle=1, t=5800, mse=7.6074, mnll=11.3744, time=2.21 minutes\n",
      ">>> cycle=1, t=6000, mse=7.555, mnll=11.3329, time=2.29 minutes\n",
      ">>> cycle=1, t=6200, mse=7.5666, mnll=11.3314, time=2.37 minutes\n",
      ">>> cycle=1, t=6400, mse=7.546, mnll=11.3111, time=2.47 minutes\n",
      ">>> cycle=1, t=6600, mse=7.5047, mnll=11.2728, time=2.57 minutes\n",
      ">>> cycle=1, t=6800, mse=7.5094, mnll=11.2865, time=2.64 minutes\n",
      ">>> cycle=1, t=7000, mse=7.4727, mnll=11.255, time=2.71 minutes\n",
      ">>> cycle=1, t=7200, mse=7.462, mnll=11.2359, time=2.79 minutes\n",
      ">>> cycle=1, t=7400, mse=7.4561, mnll=11.2463, time=2.86 minutes\n",
      ">>> cycle=1, t=7600, mse=7.5839, mnll=11.4026, time=2.95 minutes\n",
      ">>> cycle=1, t=7800, mse=7.5119, mnll=11.3589, time=3.03 minutes\n",
      ">>> cycle=1, t=8000, mse=7.4813, mnll=11.3369, time=3.11 minutes\n",
      ">>> cycle=1, t=8200, mse=7.4249, mnll=11.299, time=3.18 minutes\n",
      ">>> cycle=1, t=8400, mse=7.6434, mnll=11.5169, time=3.25 minutes\n",
      ">>> cycle=1, t=8600, mse=7.6954, mnll=11.5422, time=3.33 minutes\n",
      ">>> cycle=1, t=8800, mse=7.6585, mnll=11.5089, time=3.4 minutes\n",
      ">>> cycle=1, t=9000, mse=7.6435, mnll=11.4989, time=3.49 minutes\n",
      ">>> cycle=1, t=9200, mse=7.7776, mnll=11.6166, time=3.56 minutes\n",
      ">>> cycle=1, t=9400, mse=7.8001, mnll=11.6218, time=3.64 minutes\n",
      ">>> cycle=1, t=9600, mse=7.785, mnll=11.6059, time=3.73 minutes\n",
      ">>> cycle=1, t=9800, mse=7.7975, mnll=11.6197, time=3.81 minutes\n",
      ">>> cycle=1, t=10000, mse=7.7781, mnll=11.6035, time=3.9 minutes\n"
     ]
    }
   ],
   "source": [
    "model.learn()"
   ]
  },
  {
   "cell_type": "code",
   "execution_count": 5,
   "id": "a1d3349b-ec28-4fe0-acfc-87225927674f",
   "metadata": {
    "tags": []
   },
   "outputs": [],
   "source": [
    "cwd = os.getcwd()\n",
    "model_path = os.path.join(cwd, \"models\", \"train_4.pickle\")\n",
    "with open(model_path, 'wb') as f:\n",
    "    pickle.dump(model, f)"
   ]
  },
  {
   "cell_type": "code",
   "execution_count": null,
   "id": "55bab876-69ff-42c4-8bbe-4d3a1a4ae134",
   "metadata": {},
   "outputs": [],
   "source": []
  },
  {
   "cell_type": "code",
   "execution_count": null,
   "id": "761d126b-cd55-42ac-bd14-b33584ee77de",
   "metadata": {},
   "outputs": [],
   "source": []
  }
 ],
 "metadata": {
  "kernelspec": {
   "display_name": "Python 3 (ipykernel)",
   "language": "python",
   "name": "python3"
  },
  "language_info": {
   "codemirror_mode": {
    "name": "ipython",
    "version": 3
   },
   "file_extension": ".py",
   "mimetype": "text/x-python",
   "name": "python",
   "nbconvert_exporter": "python",
   "pygments_lexer": "ipython3",
   "version": "3.11.4"
  }
 },
 "nbformat": 4,
 "nbformat_minor": 5
}
