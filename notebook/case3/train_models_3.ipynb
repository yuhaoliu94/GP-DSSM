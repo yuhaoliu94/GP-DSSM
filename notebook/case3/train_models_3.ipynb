{
 "cells": [
  {
   "cell_type": "code",
   "execution_count": 1,
   "id": "c789d477-a221-4bf6-b577-067a059cfb8c",
   "metadata": {
    "tags": []
   },
   "outputs": [],
   "source": [
    "import os\n",
    "import pickle\n",
    "os.getcwd()\n",
    "os.chdir(\"../../\")\n",
    "\n",
    "import numpy as np\n",
    "from matplotlib import pyplot as plt"
   ]
  },
  {
   "cell_type": "code",
   "execution_count": 2,
   "id": "fc1699a9-1668-49cd-9809-f78ef7a98e26",
   "metadata": {
    "tags": []
   },
   "outputs": [],
   "source": [
    "from src.gpdssm.models import InputSingleModel"
   ]
  },
  {
   "cell_type": "code",
   "execution_count": 3,
   "id": "2b8a3162-f6fa-4895-80a9-65a9e60a3038",
   "metadata": {
    "tags": []
   },
   "outputs": [],
   "source": [
    "model = InputSingleModel(data_name=\"train_3\", data_fold=1, dim_hidden=[2], num_rff=50, num_particle=1000, \n",
    "                            display_step=200, warm_start=0, learning_rate=0.001, num_train_cycle=1)"
   ]
  },
  {
   "cell_type": "code",
   "execution_count": 4,
   "id": "218ab070-44a0-4871-9ade-4581aea76eda",
   "metadata": {
    "tags": []
   },
   "outputs": [
    {
     "name": "stdout",
     "output_type": "stream",
     "text": [
      ">>> train cycle 1\n",
      ">>> cycle=1, t=1, mse=0.5321, mnll=0.2987, time=0.0 minutes\n",
      ">>> cycle=1, t=200, mse=10.6456, mnll=9.6964, time=0.09 minutes\n",
      ">>> cycle=1, t=400, mse=8.5413, mnll=8.3505, time=0.15 minutes\n",
      ">>> cycle=1, t=600, mse=8.0336, mnll=7.2623, time=0.22 minutes\n",
      ">>> cycle=1, t=800, mse=7.0616, mnll=6.3835, time=0.29 minutes\n",
      ">>> cycle=1, t=1000, mse=6.5794, mnll=6.0183, time=0.4 minutes\n",
      ">>> cycle=1, t=1200, mse=6.072, mnll=5.515, time=0.47 minutes\n",
      ">>> cycle=1, t=1400, mse=5.6404, mnll=5.1479, time=0.53 minutes\n",
      ">>> cycle=1, t=1600, mse=5.25, mnll=4.7075, time=0.62 minutes\n",
      ">>> cycle=1, t=1800, mse=4.9138, mnll=4.3071, time=0.68 minutes\n",
      ">>> cycle=1, t=2000, mse=4.6352, mnll=3.913, time=0.75 minutes\n",
      ">>> cycle=1, t=2200, mse=4.439, mnll=3.6228, time=0.82 minutes\n",
      ">>> cycle=1, t=2400, mse=4.2769, mnll=3.4406, time=0.92 minutes\n",
      ">>> cycle=1, t=2600, mse=4.095, mnll=3.1836, time=0.99 minutes\n",
      ">>> cycle=1, t=2800, mse=3.9954, mnll=3.1098, time=1.05 minutes\n",
      ">>> cycle=1, t=3000, mse=3.848, mnll=2.9107, time=1.14 minutes\n",
      ">>> cycle=1, t=3200, mse=3.7245, mnll=2.7376, time=1.2 minutes\n",
      ">>> cycle=1, t=3400, mse=3.5982, mnll=2.5669, time=1.27 minutes\n",
      ">>> cycle=1, t=3600, mse=3.479, mnll=2.4104, time=1.33 minutes\n",
      ">>> cycle=1, t=3800, mse=3.3643, mnll=2.204, time=1.44 minutes\n",
      ">>> cycle=1, t=4000, mse=3.2807, mnll=2.0733, time=1.5 minutes\n",
      ">>> cycle=1, t=4200, mse=3.2284, mnll=2.0673, time=1.57 minutes\n",
      ">>> cycle=1, t=4400, mse=3.1423, mnll=1.9269, time=1.63 minutes\n",
      ">>> cycle=1, t=4600, mse=3.0605, mnll=1.7784, time=1.72 minutes\n",
      ">>> cycle=1, t=4800, mse=3.0341, mnll=1.7857, time=1.78 minutes\n",
      ">>> cycle=1, t=5000, mse=3.0006, mnll=1.7744, time=1.85 minutes\n",
      ">>> cycle=1, t=5200, mse=2.9653, mnll=1.7497, time=1.95 minutes\n",
      ">>> cycle=1, t=5400, mse=2.9013, mnll=1.6351, time=2.01 minutes\n",
      ">>> cycle=1, t=5600, mse=2.845, mnll=1.5421, time=2.08 minutes\n",
      ">>> cycle=1, t=5800, mse=2.7839, mnll=1.417, time=2.15 minutes\n",
      ">>> cycle=1, t=6000, mse=2.7416, mnll=1.3448, time=2.23 minutes\n",
      ">>> cycle=1, t=6200, mse=2.6875, mnll=1.2329, time=2.29 minutes\n",
      ">>> cycle=1, t=6400, mse=2.6617, mnll=1.202, time=2.36 minutes\n",
      ">>> cycle=1, t=6600, mse=2.6191, mnll=1.123, time=2.43 minutes\n",
      ">>> cycle=1, t=6800, mse=2.5819, mnll=1.0542, time=2.53 minutes\n",
      ">>> cycle=1, t=7000, mse=2.5411, mnll=0.9731, time=2.6 minutes\n",
      ">>> cycle=1, t=7200, mse=2.51, mnll=0.9197, time=2.66 minutes\n",
      ">>> cycle=1, t=7400, mse=2.4789, mnll=0.8679, time=2.75 minutes\n",
      ">>> cycle=1, t=7600, mse=2.5584, mnll=1.1516, time=2.81 minutes\n",
      ">>> cycle=1, t=7800, mse=2.5138, mnll=1.0514, time=2.88 minutes\n",
      ">>> cycle=1, t=8000, mse=2.4863, mnll=0.9839, time=2.94 minutes\n",
      ">>> cycle=1, t=8200, mse=2.4474, mnll=0.8895, time=3.04 minutes\n",
      ">>> cycle=1, t=8400, mse=2.5267, mnll=1.217, time=3.13 minutes\n",
      ">>> cycle=1, t=8600, mse=2.5004, mnll=1.1545, time=3.21 minutes\n",
      ">>> cycle=1, t=8800, mse=2.4669, mnll=1.0818, time=3.3 minutes\n",
      ">>> cycle=1, t=9000, mse=2.4335, mnll=1.0051, time=3.37 minutes\n",
      ">>> cycle=1, t=9200, mse=2.4358, mnll=1.0154, time=3.44 minutes\n",
      ">>> cycle=1, t=9400, mse=2.4123, mnll=0.9673, time=3.51 minutes\n",
      ">>> cycle=1, t=9600, mse=2.3834, mnll=0.9002, time=3.6 minutes\n",
      ">>> cycle=1, t=9800, mse=2.3681, mnll=0.8857, time=3.67 minutes\n",
      ">>> cycle=1, t=10000, mse=2.3448, mnll=0.8336, time=3.74 minutes\n"
     ]
    }
   ],
   "source": [
    "model.learn()"
   ]
  },
  {
   "cell_type": "code",
   "execution_count": 5,
   "id": "a1d3349b-ec28-4fe0-acfc-87225927674f",
   "metadata": {
    "tags": []
   },
   "outputs": [],
   "source": [
    "cwd = os.getcwd()\n",
    "model_path = os.path.join(cwd, \"models\", \"train_3.pickle\")\n",
    "with open(model_path, 'wb') as f:\n",
    "    pickle.dump(model, f)"
   ]
  },
  {
   "cell_type": "code",
   "execution_count": null,
   "id": "55bab876-69ff-42c4-8bbe-4d3a1a4ae134",
   "metadata": {},
   "outputs": [],
   "source": []
  },
  {
   "cell_type": "code",
   "execution_count": null,
   "id": "761d126b-cd55-42ac-bd14-b33584ee77de",
   "metadata": {},
   "outputs": [],
   "source": []
  }
 ],
 "metadata": {
  "kernelspec": {
   "display_name": "Python 3 (ipykernel)",
   "language": "python",
   "name": "python3"
  },
  "language_info": {
   "codemirror_mode": {
    "name": "ipython",
    "version": 3
   },
   "file_extension": ".py",
   "mimetype": "text/x-python",
   "name": "python",
   "nbconvert_exporter": "python",
   "pygments_lexer": "ipython3",
   "version": "3.11.4"
  }
 },
 "nbformat": 4,
 "nbformat_minor": 5
}
