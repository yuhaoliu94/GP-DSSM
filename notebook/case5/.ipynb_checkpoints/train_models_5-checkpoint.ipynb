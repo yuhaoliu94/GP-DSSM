{
 "cells": [
  {
   "cell_type": "code",
   "execution_count": 1,
   "id": "c789d477-a221-4bf6-b577-067a059cfb8c",
   "metadata": {
    "tags": []
   },
   "outputs": [],
   "source": [
    "import os\n",
    "import pickle\n",
    "os.getcwd()\n",
    "os.chdir(\"../../\")\n",
    "\n",
    "import numpy as np\n",
    "from matplotlib import pyplot as plt"
   ]
  },
  {
   "cell_type": "code",
   "execution_count": 2,
   "id": "fc1699a9-1668-49cd-9809-f78ef7a98e26",
   "metadata": {
    "tags": []
   },
   "outputs": [],
   "source": [
    "from src.gpdssm.models import BinarySingleModel"
   ]
  },
  {
   "cell_type": "code",
   "execution_count": 3,
   "id": "2b8a3162-f6fa-4895-80a9-65a9e60a3038",
   "metadata": {
    "tags": []
   },
   "outputs": [],
   "source": [
    "model = BinarySingleModel(data_name=\"train_5\", data_fold=1, dim_hidden=[2], num_rff=50, num_particle=1000, \n",
    "                            display_step=200, warm_start=0, learning_rate=0.1, num_train_cycle=1)"
   ]
  },
  {
   "cell_type": "code",
   "execution_count": 4,
   "id": "218ab070-44a0-4871-9ade-4581aea76eda",
   "metadata": {
    "tags": []
   },
   "outputs": [
    {
     "name": "stdout",
     "output_type": "stream",
     "text": [
      ">>> train cycle 1\n",
      ">>> cycle=1, t=1, mse=0.5001, mnll=1.3865, time=0.0 minutes\n",
      ">>> cycle=1, t=200, mse=0.4187, mnll=1.2397, time=0.03 minutes\n",
      ">>> cycle=1, t=400, mse=0.4062, mnll=1.241, time=0.05 minutes\n",
      ">>> cycle=1, t=600, mse=0.39, mnll=1.2404, time=0.08 minutes\n",
      ">>> cycle=1, t=800, mse=0.3793, mnll=1.2539, time=0.1 minutes\n",
      ">>> cycle=1, t=1000, mse=0.3735, mnll=1.2876, time=0.13 minutes\n",
      ">>> cycle=1, t=1200, mse=0.3691, mnll=1.323, time=0.15 minutes\n",
      ">>> cycle=1, t=1400, mse=0.3668, mnll=1.3574, time=0.18 minutes\n",
      ">>> cycle=1, t=1600, mse=0.3636, mnll=1.3859, time=0.21 minutes\n",
      ">>> cycle=1, t=1800, mse=0.3594, mnll=1.4037, time=0.23 minutes\n",
      ">>> cycle=1, t=2000, mse=0.3542, mnll=1.4124, time=0.26 minutes\n",
      ">>> cycle=1, t=2200, mse=0.3478, mnll=1.4202, time=0.29 minutes\n",
      ">>> cycle=1, t=2400, mse=0.3413, mnll=1.4286, time=0.32 minutes\n",
      ">>> cycle=1, t=2600, mse=0.3345, mnll=1.4301, time=0.35 minutes\n",
      ">>> cycle=1, t=2800, mse=0.33, mnll=1.4403, time=0.37 minutes\n",
      ">>> cycle=1, t=3000, mse=0.3265, mnll=1.4512, time=0.4 minutes\n",
      ">>> cycle=1, t=3200, mse=0.3255, mnll=1.463, time=0.43 minutes\n",
      ">>> cycle=1, t=3400, mse=0.3248, mnll=1.4722, time=0.46 minutes\n",
      ">>> cycle=1, t=3600, mse=0.3244, mnll=1.4832, time=0.49 minutes\n",
      ">>> cycle=1, t=3800, mse=0.3244, mnll=1.4949, time=0.51 minutes\n",
      ">>> cycle=1, t=4000, mse=0.3238, mnll=1.5018, time=0.54 minutes\n",
      ">>> cycle=1, t=4200, mse=0.3217, mnll=1.4987, time=0.57 minutes\n",
      ">>> cycle=1, t=4400, mse=0.3191, mnll=1.4928, time=0.6 minutes\n",
      ">>> cycle=1, t=4600, mse=0.3167, mnll=1.4871, time=0.63 minutes\n",
      ">>> cycle=1, t=4800, mse=0.3148, mnll=1.4833, time=0.66 minutes\n",
      ">>> cycle=1, t=5000, mse=0.3127, mnll=1.478, time=0.68 minutes\n",
      ">>> cycle=1, t=5200, mse=0.311, mnll=1.4729, time=0.71 minutes\n",
      ">>> cycle=1, t=5400, mse=0.3095, mnll=1.4692, time=0.74 minutes\n",
      ">>> cycle=1, t=5600, mse=0.3078, mnll=1.4646, time=0.77 minutes\n",
      ">>> cycle=1, t=5800, mse=0.3064, mnll=1.4598, time=0.79 minutes\n",
      ">>> cycle=1, t=6000, mse=0.3053, mnll=1.4566, time=0.82 minutes\n",
      ">>> cycle=1, t=6200, mse=0.3043, mnll=1.4539, time=0.85 minutes\n",
      ">>> cycle=1, t=6400, mse=0.3033, mnll=1.4506, time=0.88 minutes\n",
      ">>> cycle=1, t=6600, mse=0.3023, mnll=1.4472, time=0.91 minutes\n",
      ">>> cycle=1, t=6800, mse=0.3014, mnll=1.4445, time=0.93 minutes\n",
      ">>> cycle=1, t=7000, mse=0.3004, mnll=1.4408, time=0.96 minutes\n",
      ">>> cycle=1, t=7200, mse=0.2997, mnll=1.4385, time=0.99 minutes\n",
      ">>> cycle=1, t=7400, mse=0.2989, mnll=1.4357, time=1.01 minutes\n",
      ">>> cycle=1, t=7600, mse=0.2983, mnll=1.4332, time=1.04 minutes\n",
      ">>> cycle=1, t=7800, mse=0.2976, mnll=1.4308, time=1.07 minutes\n",
      ">>> cycle=1, t=8000, mse=0.2966, mnll=1.427, time=1.09 minutes\n",
      ">>> cycle=1, t=8200, mse=0.2959, mnll=1.4238, time=1.12 minutes\n",
      ">>> cycle=1, t=8400, mse=0.2949, mnll=1.42, time=1.15 minutes\n",
      ">>> cycle=1, t=8600, mse=0.2942, mnll=1.4169, time=1.18 minutes\n",
      ">>> cycle=1, t=8800, mse=0.2933, mnll=1.4131, time=1.2 minutes\n",
      ">>> cycle=1, t=9000, mse=0.2928, mnll=1.411, time=1.23 minutes\n",
      ">>> cycle=1, t=9200, mse=0.2921, mnll=1.4077, time=1.26 minutes\n",
      ">>> cycle=1, t=9400, mse=0.2915, mnll=1.405, time=1.29 minutes\n",
      ">>> cycle=1, t=9600, mse=0.2911, mnll=1.4031, time=1.31 minutes\n",
      ">>> cycle=1, t=9800, mse=0.2905, mnll=1.4001, time=1.34 minutes\n",
      ">>> cycle=1, t=10000, mse=0.29, mnll=1.3976, time=1.37 minutes\n"
     ]
    }
   ],
   "source": [
    "model.learn()"
   ]
  },
  {
   "cell_type": "code",
   "execution_count": 5,
   "id": "a1d3349b-ec28-4fe0-acfc-87225927674f",
   "metadata": {
    "tags": []
   },
   "outputs": [],
   "source": [
    "cwd = os.getcwd()\n",
    "model_path = os.path.join(cwd, \"models\", \"train_5.pickle\")\n",
    "with open(model_path, 'wb') as f:\n",
    "    pickle.dump(model, f)"
   ]
  },
  {
   "cell_type": "code",
   "execution_count": null,
   "id": "55bab876-69ff-42c4-8bbe-4d3a1a4ae134",
   "metadata": {},
   "outputs": [],
   "source": []
  },
  {
   "cell_type": "code",
   "execution_count": null,
   "id": "761d126b-cd55-42ac-bd14-b33584ee77de",
   "metadata": {},
   "outputs": [],
   "source": []
  }
 ],
 "metadata": {
  "kernelspec": {
   "display_name": "Python 3 (ipykernel)",
   "language": "python",
   "name": "python3"
  },
  "language_info": {
   "codemirror_mode": {
    "name": "ipython",
    "version": 3
   },
   "file_extension": ".py",
   "mimetype": "text/x-python",
   "name": "python",
   "nbconvert_exporter": "python",
   "pygments_lexer": "ipython3",
   "version": "3.11.4"
  }
 },
 "nbformat": 4,
 "nbformat_minor": 5
}
